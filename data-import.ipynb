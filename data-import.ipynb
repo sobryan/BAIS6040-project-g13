{
 "cells": [
  {
   "cell_type": "code",
   "execution_count": null,
   "metadata": {},
   "outputs": [],
   "source": [
    "# Read in data from Des Moines housing market\n",
    "\n",
    "# Polk county assessors (PCA) residential housing data reference\n",
    "# http://web.assess.co.polk.ia.us/web/exports/basic/res.html  \n",
    "\n",
    "# According to PCA site, housing data is geographically grouped by \n",
    "# Jurisdiction (Des Moines, Johnston, West Des Moines, Grimes, Ankeny, Polk city, etc.)\n",
    "\n",
    "# Within Des Moines, the data is broken down into tax districts\n",
    "# http://web.assess.co.polk.ia.us/cgi-bin/web/maps/map.cgi?map=taxdist&img.x=340&img.y=220&zoom=2&&imgext=1535650+519817+1648201+632368\n",
    "    \n",
    "    \n",
    "\n"
   ]
  },
  {
   "cell_type": "markdown",
   "metadata": {},
   "source": [
    "\n",
    "# Downtown Tax Districts\n",
    "Within Des Moines, the residential housing units can be grouped by is broken down into tax districts\n",
    "\n",
    "http://web.assess.co.polk.ia.us/cgi-bin/web/maps/map.cgi?map=taxdist&img.x=340&img.y=220&zoom=2&&imgext=1535650+519817+1648201+632368\n",
    "\n",
    "\n",
    "Downtown des moines consists of groups 020,030,040.  \n",
    "\n",
    "![title](images/TAXDIST-downtown.png)\n",
    "\n",
    "\n",
    "And our area of specific interest is district 040.\n",
    "\n",
    "![title](images/TAXDIST-040.png)\n"
   ]
  },
  {
   "cell_type": "code",
   "execution_count": null,
   "metadata": {},
   "outputs": [],
   "source": [
    "# download the data\n",
    "\n",
    "# all sales by year and then jurisdiction\n",
    "# http://web.assess.co.polk.ia.us/web/exports/basic/res.html\n",
    "\n",
    "# request data of condos \n",
    "#http://web.assess.co.polk.ia.us/cgi-bin/web/tt/form.cgi?tt=rsaleformCU\n",
    "\n",
    "# An attempt to get all condos from 020,030,040 for all time is downloaded to:\n",
    "# data/condos-020-030-040-allyears.xls\n",
    "    "
   ]
  },
  {
   "cell_type": "code",
   "execution_count": 17,
   "metadata": {},
   "outputs": [
    {
     "name": "stdout",
     "output_type": "stream",
     "text": [
      "Requirement already satisfied: urlextract in c:\\users\\user2\\anaconda3\\lib\\site-packages (1.0.0)\n",
      "Requirement already satisfied: uritools in c:\\users\\user2\\anaconda3\\lib\\site-packages (from urlextract) (3.0.0)\n",
      "Requirement already satisfied: idna in c:\\users\\user2\\anaconda3\\lib\\site-packages (from urlextract) (2.8)\n",
      "Requirement already satisfied: filelock in c:\\users\\user2\\anaconda3\\lib\\site-packages (from urlextract) (3.0.12)\n",
      "Requirement already satisfied: appdirs in c:\\users\\user2\\anaconda3\\lib\\site-packages (from urlextract) (1.4.4)\n"
     ]
    },
    {
     "name": "stderr",
     "output_type": "stream",
     "text": [
      "WARNING: You are using pip version 20.2.2; however, version 20.2.3 is available.\n",
      "You should consider upgrading via the 'c:\\users\\user2\\anaconda3\\python.exe -m pip install --upgrade pip' command.\n"
     ]
    },
    {
     "name": "stdout",
     "output_type": "stream",
     "text": [
      "Requirement already satisfied: requests in c:\\users\\user2\\anaconda3\\lib\\site-packages (2.22.0)\n",
      "Requirement already satisfied: certifi>=2017.4.17 in c:\\users\\user2\\anaconda3\\lib\\site-packages (from requests) (2020.6.20)\n",
      "Requirement already satisfied: urllib3!=1.25.0,!=1.25.1,<1.26,>=1.21.1 in c:\\users\\user2\\anaconda3\\lib\\site-packages (from requests) (1.24.2)\n",
      "Requirement already satisfied: chardet<3.1.0,>=3.0.2 in c:\\users\\user2\\anaconda3\\lib\\site-packages (from requests) (3.0.4)\n",
      "Requirement already satisfied: idna<2.9,>=2.5 in c:\\users\\user2\\anaconda3\\lib\\site-packages (from requests) (2.8)\n"
     ]
    },
    {
     "name": "stderr",
     "output_type": "stream",
     "text": [
      "WARNING: You are using pip version 20.2.2; however, version 20.2.3 is available.\n",
      "You should consider upgrading via the 'c:\\users\\user2\\anaconda3\\python.exe -m pip install --upgrade pip' command.\n"
     ]
    },
    {
     "name": "stdout",
     "output_type": "stream",
     "text": [
      "Collecting furl\n",
      "  Downloading furl-2.1.0-py2.py3-none-any.whl (20 kB)\n",
      "Requirement already satisfied: six>=1.8.0 in c:\\users\\user2\\anaconda3\\lib\\site-packages (from furl) (1.12.0)\n",
      "Collecting orderedmultidict>=1.0.1\n",
      "  Downloading orderedmultidict-1.0.1-py2.py3-none-any.whl (11 kB)\n",
      "Installing collected packages: orderedmultidict, furl\n",
      "Successfully installed furl-2.1.0 orderedmultidict-1.0.1\n"
     ]
    },
    {
     "name": "stderr",
     "output_type": "stream",
     "text": [
      "WARNING: You are using pip version 20.2.2; however, version 20.2.3 is available.\n",
      "You should consider upgrading via the 'c:\\users\\user2\\anaconda3\\python.exe -m pip install --upgrade pip' command.\n"
     ]
    }
   ],
   "source": [
    "!pip install urlextract\n",
    "!pip install requests\n",
    "!pip install furl"
   ]
  },
  {
   "cell_type": "code",
   "execution_count": null,
   "metadata": {},
   "outputs": [],
   "source": []
  },
  {
   "cell_type": "code",
   "execution_count": 19,
   "metadata": {},
   "outputs": [
    {
     "name": "stdout",
     "output_type": "stream",
     "text": [
      "Response is: <html><head><meta HTTP-EQUIV=\"REFRESH\" content=\"0; url=http://maps.google.com/maps?q=41.5896426676162,-93.6107644172155&t=h&z=18\"></head><body>Redirecting to <a href=\"http://maps.google.com/maps?q=41.5896426676162,-93.6107644172155&t=h&z=18\">Google</a></body></html>\n",
      "\n",
      "http://maps.google.com/maps?q=41.5896426676162,-93.6107644172155&t=h&z=18\n",
      "41.5896426676162,-93.6107644172155\n"
     ]
    }
   ],
   "source": [
    "from urlextract import URLExtract\n",
    "import requests\n",
    "from furl import furl\n",
    "\n",
    "# geoparcel url\n",
    "url = \"http://web.assess.co.polk.ia.us/cgi-bin/web/maps/googlemap/04000614005000\"\n",
    "\n",
    "# request geoparcel url\n",
    "req = requests.get(url)\n",
    "text = req.text\n",
    "print(\"Response is: {}\\n\".format(text))\n",
    "\n",
    "# extract url from redirect response\n",
    "extractor = URLExtract()\n",
    "urls = extractor.find_urls(text)\n",
    "print(urls[0]) # prints: ['example.com']\n",
    "\n",
    "# get raw coords from url\n",
    "f = furl(urls[0]) \n",
    "coords = f.args['q']\n",
    "print(coords)\n"
   ]
  },
  {
   "cell_type": "code",
   "execution_count": null,
   "metadata": {},
   "outputs": [],
   "source": [
    "# these are my changes"
   ]
  }
 ],
 "metadata": {
  "kernelspec": {
   "display_name": "Python 3",
   "language": "python",
   "name": "python3"
  },
  "language_info": {
   "codemirror_mode": {
    "name": "ipython",
    "version": 3
   },
   "file_extension": ".py",
   "mimetype": "text/x-python",
   "name": "python",
   "nbconvert_exporter": "python",
   "pygments_lexer": "ipython3",
   "version": "3.7.4"
  }
 },
 "nbformat": 4,
 "nbformat_minor": 2
}
