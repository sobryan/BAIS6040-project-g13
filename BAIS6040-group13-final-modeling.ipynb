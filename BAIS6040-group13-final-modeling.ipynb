{
 "cells": [
  {
   "cell_type": "markdown",
   "metadata": {},
   "source": [
    "# **Real Estate Regression**\n",
    "## **Predicting Residential Real Estate Sale Price in Polk County Based On Selected Features**\n",
    "### *Data Programming with Python - Group 13 Project*\n",
    "### *Eric Schelin, Navin Mukraj, Sean O'Bryan*\n",
    "#### Notebook for model\n",
    "\n",
    "\n",
    "<hr size=8>\n",
    "\n",
    "<img align=\"right\" src=\"https://www.python.org/static/community_logos/python-logo.png\">\n",
    "<img align=\"left\" src=\"https://www.dsm.city/_assets_/images/logo.png\">"
   ]
  },
  {
   "cell_type": "markdown",
   "metadata": {},
   "source": [
    "## Table of contents  \n",
    "***\n",
    "1. Import the prepared data\n",
    "    - Read the prepared data from a csv into a dataframe\n",
    "2. Build the regression model\n",
    "    - Extract selected features and target to X and Y.  Split the data into test and train data.\n",
    "    - Fit the model\n",
    "    - Output accuracy scores of regression\n",
    "    - Export model to pkl file"
   ]
  },
  {
   "cell_type": "markdown",
   "metadata": {},
   "source": [
    "### Import the prepared data"
   ]
  },
  {
   "cell_type": "markdown",
   "metadata": {},
   "source": [
    "#### Read the prepared data from a csv into a dataframe"
   ]
  },
  {
   "cell_type": "code",
   "execution_count": 7,
   "metadata": {},
   "outputs": [],
   "source": [
    "import pandas as pd\n",
    "uri = \"./data/prepared-data.csv\" \n",
    "df = pd.read_csv(uri)\n"
   ]
  },
  {
   "cell_type": "markdown",
   "metadata": {},
   "source": [
    "### Build the regression model"
   ]
  },
  {
   "cell_type": "markdown",
   "metadata": {},
   "source": [
    "#### Extract selected features and target to X and Y.  Split the data into test and train data."
   ]
  },
  {
   "cell_type": "code",
   "execution_count": 11,
   "metadata": {},
   "outputs": [],
   "source": [
    "from sklearn.model_selection import train_test_split\n",
    "features = ['bathrooms','year_built','total_living_area']\n",
    "X = df[features].copy()\n",
    "y = df[['price_adj']]\n",
    "\n",
    "X_train, X_test, y_train, y_test =train_test_split(X,y,test_size=0.8,random_state=1)"
   ]
  },
  {
   "cell_type": "markdown",
   "metadata": {},
   "source": [
    "#### Fit the model"
   ]
  },
  {
   "cell_type": "code",
   "execution_count": 12,
   "metadata": {},
   "outputs": [],
   "source": [
    "from sklearn.linear_model import LinearRegression\n",
    "# this did not always converge on the first attempt\n",
    "lr=LinearRegression().fit(X_train, y_train)\n"
   ]
  },
  {
   "cell_type": "markdown",
   "metadata": {},
   "source": [
    "#### Output accuracy scores of regression"
   ]
  },
  {
   "cell_type": "code",
   "execution_count": 14,
   "metadata": {},
   "outputs": [
    {
     "name": "stdout",
     "output_type": "stream",
     "text": [
      "Mean Squared Error (MSE)  80821.64\n",
      "R-squared (training)  0.537\n",
      "R-squared (testing)  0.588\n",
      "Intercept:  [-1935090.68646401]\n",
      "Coefficient:  [[25634.04700098   975.57887562   110.70426275]]\n"
     ]
    }
   ],
   "source": [
    "from sklearn import metrics\n",
    "import numpy as np\n",
    "\n",
    "lrprd=lr.predict(X_test)\n",
    "\n",
    "mean_squared_error=metrics.mean_squared_error(y_test,lrprd)\n",
    "print('Mean Squared Error (MSE) ', round(np.sqrt(mean_squared_error), 2))\n",
    "print('R-squared (training) ', round(lr.score(X_train, y_train), 3))\n",
    "print('R-squared (testing) ', round(lr.score(X_test, y_test), 3))\n",
    "print('Intercept: ', lr.intercept_)\n",
    "print('Coefficient: ', lr.coef_)"
   ]
  },
  {
   "cell_type": "markdown",
   "metadata": {},
   "source": [
    "#### Export model to pkl file"
   ]
  },
  {
   "cell_type": "code",
   "execution_count": 15,
   "metadata": {},
   "outputs": [],
   "source": [
    "import joblib\n",
    "\n",
    "with open(\"data/regressionModel.pkl\", \"wb\") as fwb:\n",
    "    joblib.dump(lr, fwb)"
   ]
  }
 ],
 "metadata": {
  "kernelspec": {
   "display_name": "Python 3",
   "language": "python",
   "name": "python3"
  },
  "language_info": {
   "codemirror_mode": {
    "name": "ipython",
    "version": 3
   },
   "file_extension": ".py",
   "mimetype": "text/x-python",
   "name": "python",
   "nbconvert_exporter": "python",
   "pygments_lexer": "ipython3",
   "version": "3.7.4"
  }
 },
 "nbformat": 4,
 "nbformat_minor": 2
}
